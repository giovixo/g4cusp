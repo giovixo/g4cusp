{
 "cells": [
  {
   "cell_type": "code",
   "execution_count": 1,
   "id": "be475c29",
   "metadata": {},
   "outputs": [],
   "source": [
    "import numpy as np\n",
    "import pandas as pd\n",
    "import astropy.io.fits as fits\n",
    "import os\n",
    "import sys\n",
    "import glob\n",
    "\n",
    "%matplotlib inline\n",
    "import matplotlib.pyplot as plt"
   ]
  },
  {
   "cell_type": "markdown",
   "id": "a9ab6717-8d79-4bbe-9df1-76464f61076d",
   "metadata": {},
   "source": [
    "Read the fits event file"
   ]
  },
  {
   "cell_type": "code",
   "execution_count": 2,
   "id": "9cd32655",
   "metadata": {},
   "outputs": [
    {
     "name": "stdout",
     "output_type": "stream",
     "text": [
      "Filename: scorefile.fits\n",
      "No.    Name      Ver    Type      Cards   Dimensions   Format\n",
      "  0  PRIMARY       1 PrimaryHDU       4   ()      \n",
      "  1  EVENTS        1 BinTableHDU     43   47644R x 12C   [1K, 1D, 1K, 1D, 1D, 1D, 1D, 1D, 1D, 1D, 1D, 1D]   \n",
      "ColDefs(\n",
      "    name = 'EventID'; format = '1K'\n",
      "    name = 'En_dep'; format = '1D'; unit = 'keV'\n",
      "    name = 'Scint_ID'; format = '1K'\n",
      "    name = 'X_Primary'; format = '1D'; unit = 'cm'\n",
      "    name = 'Y_Primary'; format = '1D'; unit = 'cm'\n",
      "    name = 'Z_Primary'; format = '1D'; unit = 'cm'\n",
      "    name = 'Theta_Primary'; format = '1D'; unit = 'degree'\n",
      "    name = 'Phi_Primary'; format = '1D'; unit = 'degree'\n",
      "    name = 'En_Primary'; format = '1D'; unit = 'keV'\n",
      "    name = 'X_Detected'; format = '1D'; unit = 'cm'\n",
      "    name = 'Y_Detected'; format = '1D'; unit = 'cm'\n",
      "    name = 'Z_Detected'; format = '1D'; unit = 'cm'\n",
      ")\n"
     ]
    }
   ],
   "source": [
    "hdul = fits.open(\"scorefile.fits\")\n",
    "hdul.info()\n",
    "\n",
    "events = hdul[1].data\n",
    "print(events.columns)\n",
    "\n",
    "t_ID = events['EventID']\n",
    "t_ED = events['En_dep']\n",
    "t_SI = events['Scint_ID']\n",
    "t_XP = events['X_Primary']\n",
    "t_YP = events['Y_Primary']\n",
    "t_ZP = events['Z_Primary']\n",
    "t_TP = events['Theta_Primary']\n",
    "t_PP = events['Phi_Primary']\n",
    "t_EP = events['En_Primary']\n",
    "t_Dx = events['X_Detected']\n",
    "t_Dy = events['Y_Detected']\n",
    "t_Dz = events['Z_Detected']"
   ]
  },
  {
   "cell_type": "markdown",
   "id": "4d35c0c9",
   "metadata": {},
   "source": [
    "Create a pandas data frame"
   ]
  },
  {
   "cell_type": "code",
   "execution_count": 3,
   "id": "9a50fc42",
   "metadata": {},
   "outputs": [],
   "source": [
    "data = {'EventID': t_ID, 'En_dep': t_ED, 'Scint_ID': t_SI, 'X_Primary': t_XP, 'Y_Primary': t_YP, 'Z_Primary': t_ZP,\n",
    "        'Theta_Primary': t_TP, 'Phi_Primary': t_PP, 'En_Primary': t_EP, 'X_Detected': t_Dx,\n",
    "       'Y_Detected': t_Dy, 'Z_Detected': t_Dz}\n",
    "df = pd.DataFrame(data)"
   ]
  },
  {
   "cell_type": "markdown",
   "id": "bb385ceb-5f70-4cb8-933b-51e5238e70eb",
   "metadata": {},
   "source": [
    "Create the lookup table (Scint_ID, X_detected, Y_detected, Z_detected) for the scatterers detectors "
   ]
  },
  {
   "cell_type": "code",
   "execution_count": 4,
   "id": "cb139eb3",
   "metadata": {},
   "outputs": [],
   "source": [
    "Scint_ID = []\n",
    "X_Detected = []\n",
    "Y_Detected = []\n",
    "Z_Detected = []\n",
    "for i in range(64):\n",
    "    Scint_ID.append(int(df[df['Scint_ID'] == i+1].iloc[0,:]['Scint_ID']))\n",
    "    X_Detected.append(df[df['Scint_ID'] == i+1].iloc[0,:]['X_Detected'])\n",
    "    Y_Detected.append(df[df['Scint_ID'] == i+1].iloc[0,:]['Y_Detected'])\n",
    "    Z_Detected.append(df[df['Scint_ID'] == i+1].iloc[0,:]['Z_Detected'])\n",
    "\n",
    "# create the data frame\n",
    "data = {'Scint_ID': Scint_ID, 'X_Detected': X_Detected, 'Y_Detected': Y_Detected,\n",
    "       'Z_Detected': Z_Detected}\n",
    "look_up_table_scatterer = pd.DataFrame(data)"
   ]
  },
  {
   "cell_type": "markdown",
   "id": "7af9507d-511c-4b60-8919-0df886a018a9",
   "metadata": {},
   "source": [
    "Create the lookup table (Scint_ID, X_detected, Y_detected, Z_detected) for the absorbers detectors"
   ]
  },
  {
   "cell_type": "code",
   "execution_count": 5,
   "id": "5b6bbdd1",
   "metadata": {},
   "outputs": [],
   "source": [
    "Scint_ID = []\n",
    "X_Detected = []\n",
    "Y_Detected = []\n",
    "Z_Detected = []\n",
    "for i in range(32):\n",
    "    Scint_ID.append(int(df[df['Scint_ID'] == i+101].iloc[0,:]['Scint_ID']))\n",
    "    X_Detected.append(df[df['Scint_ID'] == i+101].iloc[0,:]['X_Detected'])\n",
    "    Y_Detected.append(df[df['Scint_ID'] == i+101].iloc[0,:]['Y_Detected'])\n",
    "    Z_Detected.append(df[df['Scint_ID'] == i+101].iloc[0,:]['Z_Detected'])\n",
    "\n",
    "# create the data frame\n",
    "data = {'Scint_ID': Scint_ID, 'X_Detected': X_Detected, 'Y_Detected': Y_Detected,\n",
    "       'Z_Detected': Z_Detected}\n",
    "look_up_table_absorber = pd.DataFrame(data)"
   ]
  },
  {
   "cell_type": "markdown",
   "id": "facfcbe2-108b-4e65-a8e6-cb3d20ae8275",
   "metadata": {},
   "source": [
    "Plot the (x,y) positions"
   ]
  },
  {
   "cell_type": "code",
   "execution_count": 6,
   "id": "43ed16c3-19e2-4672-8ea6-0fe9d326c139",
   "metadata": {},
   "outputs": [
    {
     "data": {
      "text/plain": [
       "Text(0, 0.5, 'y (mm)')"
      ]
     },
     "execution_count": 6,
     "metadata": {},
     "output_type": "execute_result"
    },
    {
     "data": {
      "image/png": "[encoded data removed]",
      "text/plain": [
       "<Figure size 640x480 with 1 Axes>"
      ]
     },
     "metadata": {},
     "output_type": "display_data"
    }
   ],
   "source": [
    "position_x = []\n",
    "position_y = []\n",
    "position_z = []\n",
    "for i in range(len(look_up_table_scatterer)):\n",
    "    position_x.append(look_up_table_scatterer.iloc[i,1])\n",
    "    position_y.append(look_up_table_scatterer.iloc[i,2])\n",
    "    position_z.append(look_up_table_scatterer.iloc[i,3])\n",
    "plt.plot(position_x, position_y, 'o', color='red');\n",
    "\n",
    "position_x = []\n",
    "position_y = []\n",
    "position_z = []\n",
    "for i in range(len(look_up_table_absorber)):\n",
    "    position_x.append(look_up_table_absorber.iloc[i,1])\n",
    "    position_y.append(look_up_table_absorber.iloc[i,2])\n",
    "    position_z.append(look_up_table_scatterer.iloc[i,3])\n",
    "plt.plot(position_x, position_y, 'o', color='blue');\n",
    "    \n",
    "plt.title('Detector positions')\n",
    "plt.xlabel('x (mm)')\n",
    "plt.ylabel('y (mm)')    "
   ]
  },
  {
   "cell_type": "markdown",
   "id": "453b7bc0-fa61-4eec-a4c2-922a63cb63d4",
   "metadata": {},
   "source": [
    "### Plot the z positions"
   ]
  },
  {
   "cell_type": "code",
   "execution_count": 7,
   "id": "23f2be35-d54c-493e-8b48-0590ed42a608",
   "metadata": {},
   "outputs": [
    {
     "data": {
      "image/png": "[encoded data removed]",
      "text/plain": [
       "<Figure size 640x480 with 1 Axes>"
      ]
     },
     "metadata": {},
     "output_type": "display_data"
    }
   ],
   "source": [
    "plt.plot(position_z, '+', color='black');"
   ]
  },
  {
   "cell_type": "markdown",
   "id": "4463d971-1fbd-4ac0-852f-032192585130",
   "metadata": {},
   "source": [
    "Plot the spectrum"
   ]
  },
  {
   "cell_type": "code",
   "execution_count": 8,
   "id": "b3f6edff",
   "metadata": {},
   "outputs": [],
   "source": [
    "# Group by ''EventID' column \n",
    "grouped = df.groupby('EventID')\n",
    "\n",
    "# Perform aggregation\n",
    "sum_by_category = grouped['En_dep'].sum()"
   ]
  },
  {
   "cell_type": "code",
   "execution_count": 9,
   "id": "204203ea",
   "metadata": {
    "scrolled": true
   },
   "outputs": [
    {
     "data": {
      "image/png": "[encoded data removed]",
      "text/plain": [
       "<Figure size 640x480 with 1 Axes>"
      ]
     },
     "metadata": {},
     "output_type": "display_data"
    }
   ],
   "source": [
    "plt.hist(sum_by_category, bins=100);\n",
    "plt.title('Spectrum');\n",
    "plt.xlabel('Energy (keV)');"
   ]
  }
 ],
 "metadata": {
  "kernelspec": {
   "display_name": "Python 3 (ipykernel)",
   "language": "python",
   "name": "python3"
  },
  "language_info": {
   "codemirror_mode": {
    "name": "ipython",
    "version": 3
   },
   "file_extension": ".py",
   "mimetype": "text/x-python",
   "name": "python",
   "nbconvert_exporter": "python",
   "pygments_lexer": "ipython3",
   "version": "3.11.4"
  }
 },
 "nbformat": 4,
 "nbformat_minor": 5
}
