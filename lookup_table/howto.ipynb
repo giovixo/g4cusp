{
 "cells": [
  {
   "cell_type": "markdown",
   "id": "a6111f67",
   "metadata": {},
   "source": [
    "## A simple example to select a given row"
   ]
  },
  {
   "cell_type": "code",
   "execution_count": 9,
   "id": "36b0dfde",
   "metadata": {},
   "outputs": [],
   "source": [
    "import pandas as pd"
   ]
  },
  {
   "cell_type": "code",
   "execution_count": 10,
   "id": "3f6a1fa9",
   "metadata": {},
   "outputs": [
    {
     "name": "stdout",
     "output_type": "stream",
     "text": [
      "             name    x    y     z\n",
      "0  Scatterer_B_22  1.0  1.0  10.0\n",
      "1     Absorber_C7  2.0  2.0  20.0\n"
     ]
    }
   ],
   "source": [
    "lookup_table = pd.read_csv(\"detector.csv\")\n",
    "print(lookup_table)"
   ]
  },
  {
   "cell_type": "code",
   "execution_count": 11,
   "id": "60008891",
   "metadata": {},
   "outputs": [
    {
     "name": "stdout",
     "output_type": "stream",
     "text": [
      "{'name': 'Absorber_C7', 'x': 2.0, 'y': 2.0, 'z': 20.0}\n"
     ]
    }
   ],
   "source": [
    "detector = lookup_table.iloc[1].to_dict()\n",
    "print(detector)"
   ]
  },
  {
   "cell_type": "code",
   "execution_count": 15,
   "id": "bbd0af26",
   "metadata": {},
   "outputs": [
    {
     "name": "stdout",
     "output_type": "stream",
     "text": [
      "{'name': {1: 'Absorber_C7'}, 'x': {1: 2.0}, 'y': {1: 2.0}, 'z': {1: 20.0}}\n"
     ]
    }
   ],
   "source": [
    "rows_with_value = lookup_table[lookup_table['name'] == 'Absorber_C7'].to_dict()\n",
    "print(rows_with_value)"
   ]
  },
  {
   "cell_type": "code",
   "execution_count": null,
   "id": "4dcf1e5d",
   "metadata": {},
   "outputs": [],
   "source": []
  }
 ],
 "metadata": {
  "kernelspec": {
   "display_name": "Python 3 (ipykernel)",
   "language": "python",
   "name": "python3"
  },
  "language_info": {
   "codemirror_mode": {
    "name": "ipython",
    "version": 3
   },
   "file_extension": ".py",
   "mimetype": "text/x-python",
   "name": "python",
   "nbconvert_exporter": "python",
   "pygments_lexer": "ipython3",
   "version": "3.7.3"
  }
 },
 "nbformat": 4,
 "nbformat_minor": 5
}
