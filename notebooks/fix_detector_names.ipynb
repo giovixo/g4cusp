{
 "cells": [
  {
   "cell_type": "markdown",
   "id": "46ade1ba",
   "metadata": {},
   "source": [
    "## How to modifify the detector names (using a lookup table)"
   ]
  },
  {
   "cell_type": "markdown",
   "id": "7f7b1b93",
   "metadata": {},
   "source": [
    "Read the lookup tabel"
   ]
  },
  {
   "cell_type": "code",
   "execution_count": 9,
   "id": "97124a77",
   "metadata": {},
   "outputs": [],
   "source": [
    "import pandas as pd"
   ]
  },
  {
   "cell_type": "code",
   "execution_count": 10,
   "id": "1b2e740d",
   "metadata": {},
   "outputs": [],
   "source": [
    "lookup_table = pd.read_csv('detectors_lookup_table.csv')"
   ]
  },
  {
   "cell_type": "code",
   "execution_count": 11,
   "id": "47429ad8",
   "metadata": {},
   "outputs": [
    {
     "data": {
      "text/html": [
       "<div>\n",
       "<style scoped>\n",
       "    .dataframe tbody tr th:only-of-type {\n",
       "        vertical-align: middle;\n",
       "    }\n",
       "\n",
       "    .dataframe tbody tr th {\n",
       "        vertical-align: top;\n",
       "    }\n",
       "\n",
       "    .dataframe thead th {\n",
       "        text-align: right;\n",
       "    }\n",
       "</style>\n",
       "<table border=\"1\" class=\"dataframe\">\n",
       "  <thead>\n",
       "    <tr style=\"text-align: right;\">\n",
       "      <th></th>\n",
       "      <th>gdml_detector_name</th>\n",
       "      <th>cpp_detector_name</th>\n",
       "    </tr>\n",
       "  </thead>\n",
       "  <tbody>\n",
       "    <tr>\n",
       "      <th>0</th>\n",
       "      <td>PV-LV_Scatterer_v064__Meshed_</td>\n",
       "      <td>PV-LV_Scatterer064__Meshed_</td>\n",
       "    </tr>\n",
       "    <tr>\n",
       "      <th>1</th>\n",
       "      <td>PV-LV_Scatterer_v063__Meshed_</td>\n",
       "      <td>PV-LV_Scatterer063__Meshed_</td>\n",
       "    </tr>\n",
       "    <tr>\n",
       "      <th>2</th>\n",
       "      <td>PV-LV_Scatterer_v062__Meshed_</td>\n",
       "      <td>PV-LV_Scatterer062__Meshed_</td>\n",
       "    </tr>\n",
       "    <tr>\n",
       "      <th>3</th>\n",
       "      <td>PV-LV_Scatterer_v061__Meshed_</td>\n",
       "      <td>PV-LV_Scatterer061__Meshed_</td>\n",
       "    </tr>\n",
       "    <tr>\n",
       "      <th>4</th>\n",
       "      <td>PV-LV_Scatterer_v060__Meshed_</td>\n",
       "      <td>PV-LV_Scatterer060__Meshed_</td>\n",
       "    </tr>\n",
       "    <tr>\n",
       "      <th>...</th>\n",
       "      <td>...</td>\n",
       "      <td>...</td>\n",
       "    </tr>\n",
       "    <tr>\n",
       "      <th>91</th>\n",
       "      <td>PV-LV_Absorber_v005__Meshed_</td>\n",
       "      <td>PV-LV_Absorber105__Meshed_</td>\n",
       "    </tr>\n",
       "    <tr>\n",
       "      <th>92</th>\n",
       "      <td>PV-LV_Absorber_v004__Meshed_</td>\n",
       "      <td>PV-LV_Absorber104__Meshed_</td>\n",
       "    </tr>\n",
       "    <tr>\n",
       "      <th>93</th>\n",
       "      <td>PV-LV_Absorber_v003__Meshed_</td>\n",
       "      <td>PV-LV_Absorber103__Meshed_</td>\n",
       "    </tr>\n",
       "    <tr>\n",
       "      <th>94</th>\n",
       "      <td>PV-LV_Absorber_v002__Meshed_</td>\n",
       "      <td>PV-LV_Absorber102__Meshed_</td>\n",
       "    </tr>\n",
       "    <tr>\n",
       "      <th>95</th>\n",
       "      <td>PV-LV_Absorber_v1__Meshed_</td>\n",
       "      <td>PV-LV_Absorber101__Meshed_</td>\n",
       "    </tr>\n",
       "  </tbody>\n",
       "</table>\n",
       "<p>96 rows × 2 columns</p>\n",
       "</div>"
      ],
      "text/plain": [
       "               gdml_detector_name            cpp_detector_name\n",
       "0   PV-LV_Scatterer_v064__Meshed_  PV-LV_Scatterer064__Meshed_\n",
       "1   PV-LV_Scatterer_v063__Meshed_  PV-LV_Scatterer063__Meshed_\n",
       "2   PV-LV_Scatterer_v062__Meshed_  PV-LV_Scatterer062__Meshed_\n",
       "3   PV-LV_Scatterer_v061__Meshed_  PV-LV_Scatterer061__Meshed_\n",
       "4   PV-LV_Scatterer_v060__Meshed_  PV-LV_Scatterer060__Meshed_\n",
       "..                            ...                          ...\n",
       "91   PV-LV_Absorber_v005__Meshed_   PV-LV_Absorber105__Meshed_\n",
       "92   PV-LV_Absorber_v004__Meshed_   PV-LV_Absorber104__Meshed_\n",
       "93   PV-LV_Absorber_v003__Meshed_   PV-LV_Absorber103__Meshed_\n",
       "94   PV-LV_Absorber_v002__Meshed_   PV-LV_Absorber102__Meshed_\n",
       "95     PV-LV_Absorber_v1__Meshed_   PV-LV_Absorber101__Meshed_\n",
       "\n",
       "[96 rows x 2 columns]"
      ]
     },
     "execution_count": 11,
     "metadata": {},
     "output_type": "execute_result"
    }
   ],
   "source": [
    "lookup_table"
   ]
  },
  {
   "cell_type": "markdown",
   "id": "342b8ff4",
   "metadata": {},
   "source": [
    "Read the xml file"
   ]
  },
  {
   "cell_type": "code",
   "execution_count": 12,
   "id": "3f7e2575",
   "metadata": {},
   "outputs": [],
   "source": [
    "file_path = \"cusp_payload_GEANT4-worldVOL-structure.xml\"\n",
    "file = open(file_path, \"r\")\n",
    "structur_xml = file.read()\n",
    "file.close()"
   ]
  },
  {
   "cell_type": "code",
   "execution_count": 5,
   "id": "ddef2ce7",
   "metadata": {},
   "outputs": [
    {
     "data": {
      "text/plain": [
       "1"
      ]
     },
     "execution_count": 5,
     "metadata": {},
     "output_type": "execute_result"
    }
   ],
   "source": [
    "structur_xml.count(\"\\\"PV-LV_Scatterer_v040__Meshed_\")"
   ]
  },
  {
   "cell_type": "markdown",
   "id": "56d6cb5f",
   "metadata": {},
   "source": [
    "Check the occurence of the detector name"
   ]
  },
  {
   "cell_type": "code",
   "execution_count": 7,
   "id": "7a5ef9fb",
   "metadata": {},
   "outputs": [],
   "source": [
    "free_cad_names = lookup_table.iloc[:,0]\n",
    "for detector in free_cad_names:\n",
    "    no_occurences = structur_xml.count(\"\\\"\" + detector)\n",
    "    if structur_xml.count(\"\\\"\" + detector) != 1:\n",
    "        print(f'Warning: 1 occurnces are expectect but {no_occurences} are found') "
   ]
  },
  {
   "cell_type": "markdown",
   "id": "ea7523ab",
   "metadata": {},
   "source": [
    "Finaly the free cad name are chanded into the new names"
   ]
  },
  {
   "cell_type": "code",
   "execution_count": 35,
   "id": "428ec119",
   "metadata": {},
   "outputs": [
    {
     "name": "stdout",
     "output_type": "stream",
     "text": [
      "LV_Scatterer063__Meshed_\n"
     ]
    },
    {
     "data": {
      "text/plain": [
       "<function TextIOWrapper.close()>"
      ]
     },
     "execution_count": 35,
     "metadata": {},
     "output_type": "execute_result"
    }
   ],
   "source": [
    "# One example\n",
    "\n",
    "geant4_names = lookup_table.iloc[:,1]\n",
    "geant4_name_example = geant4_names[0]\n",
    "print(geant4_name_example)\n",
    "structure_xml_updated = structur_xml.replace(\"\\\"\" + 'LV_Scatterer_v064__Meshed_', \"\\\"\" + geant4_name_example)\n",
    "# Write the new xml file\n",
    "file_path = \"new_file.xml\"\n",
    "file = open(file_path, \"w\")\n",
    "file.write(structure_xml_updated)\n",
    "file.close"
   ]
  },
  {
   "cell_type": "code",
   "execution_count": 13,
   "id": "c154936c",
   "metadata": {},
   "outputs": [
    {
     "data": {
      "text/plain": [
       "<function TextIOWrapper.close()>"
      ]
     },
     "execution_count": 13,
     "metadata": {},
     "output_type": "execute_result"
    }
   ],
   "source": [
    "# Loop over the lookup tabel\n",
    "free_cad_names = lookup_table.iloc[:,0]\n",
    "geant4_names = lookup_table.iloc[:,1]\n",
    "structure_xml_updated = structur_xml\n",
    "for detector_free_cad, detector_geant4 in zip(free_cad_names, geant4_names):\n",
    "    structure_xml_updated = structure_xml_updated.replace(\"\\\"\" + detector_free_cad, \"\\\"\" + detector_geant4) \n",
    "# Write the new xml file\n",
    "file_path = \"cusp_payload_GEANT4-worldVOL-structure_updated.xml\"\n",
    "file = open(file_path, \"w\")\n",
    "file.write(structure_xml_updated)\n",
    "file.close"
   ]
  },
  {
   "cell_type": "code",
   "execution_count": null,
   "id": "813dedd2",
   "metadata": {},
   "outputs": [],
   "source": []
  }
 ],
 "metadata": {
  "kernelspec": {
   "display_name": "Python 3 (ipykernel)",
   "language": "python",
   "name": "python3"
  },
  "language_info": {
   "codemirror_mode": {
    "name": "ipython",
    "version": 3
   },
   "file_extension": ".py",
   "mimetype": "text/x-python",
   "name": "python",
   "nbconvert_exporter": "python",
   "pygments_lexer": "ipython3",
   "version": "3.7.3"
  }
 },
 "nbformat": 4,
 "nbformat_minor": 5
}
